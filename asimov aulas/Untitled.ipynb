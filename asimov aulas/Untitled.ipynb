{
 "cells": [
  {
   "cell_type": "code",
   "execution_count": 1,
   "id": "25018ce0-5074-45f2-88d7-404d7491ff5b",
   "metadata": {},
   "outputs": [
    {
     "name": "stderr",
     "output_type": "stream",
     "text": [
      "C:\\ProgramData\\anaconda3\\Lib\\site-packages\\seaborn\\_oldcore.py:1119: FutureWarning: use_inf_as_na option is deprecated and will be removed in a future version. Convert inf values to NaN before operating instead.\n",
      "  with pd.option_context('mode.use_inf_as_na', True):\n"
     ]
    },
    {
     "data": {
      "text/plain": [
       "<seaborn.axisgrid.FacetGrid at 0x17abb473350>"
      ]
     },
     "execution_count": 1,
     "metadata": {},
     "output_type": "execute_result"
    },
    {
     "data": {
      "image/png": "[encoded data removed]",
      "text/plain": [
       "<Figure size 500x500 with 1 Axes>"
      ]
     },
     "metadata": {},
     "output_type": "display_data"
    }
   ],
   "source": [
    "import random\n",
    "import seaborn as sns\n",
    "\n",
    "class Academia:\n",
    "    def __init__(self):\n",
    "        self.halteres = [i for i in range(10, 100) if i % 2 == 0]\n",
    "        self.porta_halteres = {}\n",
    "        self.reiniciar_o_dia()\n",
    "\n",
    "    def reiniciar_o_dia(self):\n",
    "        self.porta_halteres = {i: i for i in self.halteres}\n",
    "    \n",
    "    def lista_halteres(self):\n",
    "        return [i for i in self.porta_halteres.values() if i !=0]\n",
    "    \n",
    "    def lista_espacos(self):\n",
    "        return [i for i, j in self.porta_halteres.items() if j == 0]\n",
    "    \n",
    "    def pegar_haltere(self, peso):\n",
    "        halt_pos = list(self.porta_halteres.values()).index(peso)\n",
    "        key_alt = list(self.porta_halteres.keys())[halt_pos]\n",
    "        self.porta_halteres[key_alt] = 0\n",
    "        return peso\n",
    "    \n",
    "    def devolver_halter(self, pos, peso):\n",
    "        self.porta_halteres[pos] = peso\n",
    "\n",
    "    def calculcar_caos(self):\n",
    "        num_caos = [i for i, j in self.porta_halteres.items() if i != j]\n",
    "        return len(num_caos) / len(self.porta_halteres)\n",
    "    \n",
    "class Usuario:\n",
    "    def __init__(self, tipo, academia):\n",
    "        self.tipo = tipo # 1 - normal | 2 - bagunceiro\n",
    "        self.academia = academia\n",
    "        self.peso = 0\n",
    "\n",
    "    def iniciar_treino(self):\n",
    "        lista_pesos = self.academia.lista_halteres()\n",
    "        self.peso = random.choice(lista_pesos)\n",
    "        self.academia.pegar_haltere(self.peso)\n",
    "\n",
    "    def finalizar_treino(self):\n",
    "        espacos = self.academia.lista_espacos()\n",
    "        if self.tipo == 1:\n",
    "            if self.peso in espacos:\n",
    "                self.academia.devolver_halter(self.peso, self.peso)\n",
    "            else:\n",
    "                pos = random.choice(espacos)\n",
    "                self.academia.devolver_halter(pos, self.peso)\n",
    "        if self.tipo == 2:\n",
    "            pos = random.choice(espacos)\n",
    "            self.academia.devolver_halter(pos, self.peso)\n",
    "        self.peso = 0\n",
    "            \n",
    "\n",
    "academia = Academia()\n",
    "\n",
    "usuarios = [Usuario(1, academia) for i in range(20)]\n",
    "usuarios += [Usuario(2, academia) for i in range(1)]\n",
    "\n",
    "random.shuffle(usuarios)\n",
    "\n",
    "list_chaos = []\n",
    "\n",
    "for k in range(50):\n",
    "    academia.reiniciar_o_dia()\n",
    "    for i in range(10):\n",
    "        random.shuffle(usuarios)\n",
    "        for user in usuarios:\n",
    "            user.iniciar_treino()\n",
    "        for user in usuarios:\n",
    "            user.finalizar_treino()\n",
    "    list_chaos += [academia.calculcar_caos()]\n",
    "\n",
    "\n",
    "sns.displot(list_chaos)\n"
   ]
  },
  {
   "cell_type": "code",
   "execution_count": null,
   "id": "edea1411-dad1-4690-86d9-322d2f383084",
   "metadata": {},
   "outputs": [],
   "source": []
  }
 ],
 "metadata": {
  "kernelspec": {
   "display_name": "Python 3 (ipykernel)",
   "language": "python",
   "name": "python3"
  },
  "language_info": {
   "codemirror_mode": {
    "name": "ipython",
    "version": 3
   },
   "file_extension": ".py",
   "mimetype": "text/x-python",
   "name": "python",
   "nbconvert_exporter": "python",
   "pygments_lexer": "ipython3",
   "version": "3.11.7"
  }
 },
 "nbformat": 4,
 "nbformat_minor": 5
}
