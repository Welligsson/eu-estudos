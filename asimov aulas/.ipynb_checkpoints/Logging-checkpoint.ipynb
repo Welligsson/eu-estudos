{
 "cells": [
  {
   "cell_type": "code",
   "execution_count": 1,
   "id": "4fb524f6-330e-439f-b2f9-b1f5dfab1bbb",
   "metadata": {},
   "outputs": [],
   "source": [
    "import logging"
   ]
  },
  {
   "cell_type": "code",
   "execution_count": 20,
   "id": "1359d421-b417-4652-8aac-f178a21ee0dd",
   "metadata": {},
   "outputs": [],
   "source": [
    "logging.basicConfig(filename=\"app.logging\", level=logging.DEBUG)"
   ]
  },
  {
   "cell_type": "code",
   "execution_count": 21,
   "id": "4c4882f1-ffce-462a-8edb-ae5b03a97c0a",
   "metadata": {},
   "outputs": [],
   "source": [
    "log = logging.getLogger()"
   ]
  },
  {
   "cell_type": "code",
   "execution_count": 22,
   "id": "302e9301-945d-4ee7-aa21-b9f3c49ad54d",
   "metadata": {},
   "outputs": [],
   "source": [
    "log.info(\"olá\")"
   ]
  },
  {
   "cell_type": "code",
   "execution_count": 23,
   "id": "fcdcc3e9-9fa4-4f61-a2e1-07382eaac935",
   "metadata": {},
   "outputs": [
    {
     "data": {
      "text/plain": [
       "30"
      ]
     },
     "execution_count": 23,
     "metadata": {},
     "output_type": "execute_result"
    }
   ],
   "source": [
    "log.level"
   ]
  },
  {
   "cell_type": "code",
   "execution_count": null,
   "id": "306d7201-5e53-4ccf-9578-73f72d3d7d1b",
   "metadata": {},
   "outputs": [],
   "source": []
  }
 ],
 "metadata": {
  "kernelspec": {
   "display_name": "Python 3 (ipykernel)",
   "language": "python",
   "name": "python3"
  },
  "language_info": {
   "codemirror_mode": {
    "name": "ipython",
    "version": 3
   },
   "file_extension": ".py",
   "mimetype": "text/x-python",
   "name": "python",
   "nbconvert_exporter": "python",
   "pygments_lexer": "ipython3",
   "version": "3.11.7"
  }
 },
 "nbformat": 4,
 "nbformat_minor": 5
}
