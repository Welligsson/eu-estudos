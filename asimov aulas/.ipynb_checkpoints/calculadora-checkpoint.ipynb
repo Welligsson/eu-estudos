{
 "cells": [
  {
   "cell_type": "code",
   "execution_count": null,
   "id": "66067de3-80c0-4b6e-9953-16fe63ad8af1",
   "metadata": {},
   "outputs": [],
   "source": [
    "import os\n",
    "print('=' * 10)\n",
    "operations = {\n",
    "    '+': 'soma',\n",
    "    '-': 'subtração',\n",
    "    '*': 'multiplicação',\n",
    "    '/': 'divisão'\n",
    "}\n",
    "\n",
    "while True:\n",
    "    os.system('clear')\n",
    "    i = 0\n",
    "    for op, name in operations.items():\n",
    "        print(i, ':', name)\n"
   ]
  }
 ],
 "metadata": {
  "kernelspec": {
   "display_name": "Python 3 (ipykernel)",
   "language": "python",
   "name": "python3"
  },
  "language_info": {
   "codemirror_mode": {
    "name": "ipython",
    "version": 3
   },
   "file_extension": ".py",
   "mimetype": "text/x-python",
   "name": "python",
   "nbconvert_exporter": "python",
   "pygments_lexer": "ipython3",
   "version": "3.11.7"
  }
 },
 "nbformat": 4,
 "nbformat_minor": 5
}
