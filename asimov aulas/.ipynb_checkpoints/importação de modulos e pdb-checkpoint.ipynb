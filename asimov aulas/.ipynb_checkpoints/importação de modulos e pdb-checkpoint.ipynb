{
 "cells": [
  {
   "cell_type": "code",
   "execution_count": null,
   "id": "eb6c17af-51f2-44dc-be2d-1422e50b76ca",
   "metadata": {},
   "outputs": [],
   "source": [
    "import pdb"
   ]
  }
 ],
 "metadata": {
  "kernelspec": {
   "display_name": "",
   "name": ""
  },
  "language_info": {
   "name": ""
  }
 },
 "nbformat": 4,
 "nbformat_minor": 5
}
